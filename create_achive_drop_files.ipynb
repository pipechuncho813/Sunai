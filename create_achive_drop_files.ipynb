{
 "cells": [
  {
   "cell_type": "code",
   "execution_count": null,
   "metadata": {},
   "outputs": [],
   "source": [
    "import os\n",
    "\n",
    "user_input = input('\\nWrite text to a file? Type \"Y\" for yes or \"N\" for no:')\n",
    "if user_input == 'Y':\n",
    "    folder_name = input('name your folder. E.g. \"texts\": ')\n",
    "    folder = os.path.join('/Users/.../', folder_name)\n",
    "    file_name = '{}.txt'.format(folder_name)\n",
    "    file = os.path.join(folder, file_name)\n",
    "    os.makedirs(folder)\n",
    "    with open(file, 'w') as f:\n",
    "        f.write('Some text')\n",
    "    print('\\n\\nText named \"{}\" was written to a file. Check your directory: {}'.format(file_name, folder))\n",
    "else:\n",
    "    print('OK')"
   ]
  }
 ],
 "metadata": {
  "kernelspec": {
   "display_name": "Python 3.11.0 64-bit",
   "language": "python",
   "name": "python3"
  },
  "language_info": {
   "name": "python",
   "version": "3.11.0"
  },
  "orig_nbformat": 4,
  "vscode": {
   "interpreter": {
    "hash": "5238573367df39f7286bb46f9ff5f08f63a01a80960060ce41e3c79b190280fa"
   }
  }
 },
 "nbformat": 4,
 "nbformat_minor": 2
}
