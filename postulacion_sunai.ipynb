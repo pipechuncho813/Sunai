{
 "cells": [
  {
   "cell_type": "markdown",
   "metadata": {},
   "source": [
    "## **Postulación Sunai: Python Developer JR**"
   ]
  },
  {
   "cell_type": "code",
   "execution_count": 1,
   "metadata": {},
   "outputs": [],
   "source": [
    "# Load packages\n",
    "import os\n",
    "import numpy as np\n",
    "import pandas as pd\n",
    "import matplotlib.pyplot as plt\n",
    "plt.style.use('default')\n",
    "%matplotlib qt"
   ]
  },
  {
   "cell_type": "code",
   "execution_count": null,
   "metadata": {},
   "outputs": [],
   "source": [
    "#Set working directory\n",
    "# path_in = input('Enter path to working directory: ')\n",
    "path_in = r'C:\\Users\\fespi\\OneDrive\\Desktop\\postulacion_sunai'\n",
    "\n",
    "files = [os.path.join(path_in, f) for f in os.listdir(path_in) if f.endswith('.xlsx')]"
   ]
  },
  {
   "cell_type": "code",
   "execution_count": null,
   "metadata": {},
   "outputs": [],
   "source": [
    "# Read data and transform to dataframe\n",
    "def data_sunai(files):\n",
    "    df = pd.read_excel(files, header=0, parse_dates=True, na_filter=True)\n",
    "    df.replace('data_faltante',0, inplace=True)\n",
    "    df['date'], df['time'] = zip(*[(d.date(), d.time()) for d in df['fecha_im']])\n",
    "    df['date'], df['time'] = df['date'].astype(str), df['time'].astype(str)\n",
    "    cols = list(df.columns.values)\n",
    "    df = df[cols[0:2] + cols[-2:] + cols[2:-2]]\n",
    "    df = df[df.columns[[0,2,3,14]]]\n",
    "    \n",
    "    df_pv = df.pivot(index='time', columns='id_i', values='active_power_im')  # Create a pivot table\n",
    "    df_pv.rename_axis(None, axis=1, inplace=True)\n",
    "    \n",
    "    df_inv2 = pd.DataFrame(index = ['sum', 'min', 'max'], columns = df_pv.columns, \n",
    "                      data = [df_pv.sum().values, df_pv.min().values, df_pv.max().values]).T\n",
    "    df_inv2.fillna(0, inplace=True)  # To replace NaN values with 0\n",
    "    df_inv2.index.name = 'id_i'\n",
    "    return df_inv2"
   ]
  },
  {
   "cell_type": "code",
   "execution_count": null,
   "metadata": {},
   "outputs": [],
   "source": [
    "for i in range(len(files)):\n",
    "    data_sunai(files[i])"
   ]
  }
 ],
 "metadata": {
  "kernelspec": {
   "display_name": "Python 3.11.0 64-bit",
   "language": "python",
   "name": "python3"
  },
  "language_info": {
   "codemirror_mode": {
    "name": "ipython",
    "version": 3
   },
   "file_extension": ".py",
   "mimetype": "text/x-python",
   "name": "python",
   "nbconvert_exporter": "python",
   "pygments_lexer": "ipython3",
   "version": "3.11.0"
  },
  "orig_nbformat": 4,
  "vscode": {
   "interpreter": {
    "hash": "5238573367df39f7286bb46f9ff5f08f63a01a80960060ce41e3c79b190280fa"
   }
  }
 },
 "nbformat": 4,
 "nbformat_minor": 2
}
