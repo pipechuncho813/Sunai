{
 "cells": [
  {
   "cell_type": "markdown",
   "metadata": {},
   "source": [
    "## **Postulación Sunai: Python Developer JR**"
   ]
  },
  {
   "cell_type": "code",
   "execution_count": 2,
   "metadata": {},
   "outputs": [],
   "source": [
    "# Load packages\n",
    "import os\n",
    "import numpy as np\n",
    "import pandas as pd\n",
    "import matplotlib.pyplot as plt\n",
    "plt.style.use('default')\n",
    "%matplotlib qt"
   ]
  },
  {
   "cell_type": "code",
   "execution_count": 3,
   "metadata": {},
   "outputs": [],
   "source": [
    "#Set working directory\n",
    "path_in = input('Enter path to working directory: ')\n",
    "# path_in = r'C:\\Users\\fespi\\OneDrive\\Desktop\\data_sunai'\n",
    "\n",
    "# Create a list of all files in the working directory\n",
    "files = [os.path.join(path_in, f) for f in os.listdir(path_in) if f.endswith('.xlsx')]\n",
    "# Create a list of all specific names files (plants) in the working directory\n",
    "plants = [files[i][files[i].rfind('\\\\')+6:-5] for i in range(len(files))]"
   ]
  },
  {
   "cell_type": "code",
   "execution_count": 4,
   "metadata": {},
   "outputs": [],
   "source": [
    "# Read data and transform to dataframe\n",
    "def data_sunai(files):\n",
    "    # Read data and transform to dataframe, edit columns and return only specified subset\n",
    "    df = pd.read_excel(files, header=0, parse_dates=True, na_filter=True)\n",
    "    df.replace('data_faltante',0, inplace=True)\n",
    "    df['date'], df['time'] = zip(*[(d.date(), d.time()) for d in df['fecha_im']])\n",
    "    df['date'], df['time'] = df['date'].astype(str), df['time'].astype(str)\n",
    "    cols = list(df.columns.values)\n",
    "    df = df[cols[0:2] + cols[-2:] + cols[2:-2]]\n",
    "    df = df[df.columns[[0,2,3,14]]]\n",
    "    \n",
    "    # Create a pivot table and edit the columns\n",
    "    df_pv = df.pivot(index='time', columns='id_i', values='active_power_im')\n",
    "    df_pv.rename_axis(None, axis=1, inplace=True)\n",
    "    df_pv['date'] = df['date'][0]\n",
    "    return df_pv\n",
    "\n",
    "def data_inv_sunai(df_pv):\n",
    "    # Read previous data and create a new one: Sum, Min and Max of every inverter\n",
    "    df_pv2 = df_pv[df_pv.columns[:-1]]  # To take all columns except the last\n",
    "    df_inv = pd.DataFrame(index = ['sum', 'min', 'max'], columns = df_pv2.columns,\n",
    "                      data = [df_pv2.sum().values, df_pv2.min().values, df_pv2.max().values]).T\n",
    "    df_inv.fillna(0, inplace=True)  # To replace NaN values with 0\n",
    "    df_inv.index.name = 'id_i'\n",
    "    df_inv['date'] = df_pv['date'][0]\n",
    "    return df_inv\n",
    "\n",
    "def plot_data_sunai(df_pv, plants):\n",
    "    # Plot the data and active_power_im for each file, in all hours per day\n",
    "    fig, ax = plt.subplots(figsize=(8,5), dpi=100)\n",
    "    name_file_img = 'act_power_im_inv'\n",
    "\n",
    "    df_pv.plot(kind='line', rot=30, ax=ax, lw = 1.6, alpha=.8, legend=True)\n",
    "    ax.set(xlabel=\"Time. Date: \"+str(df_pv['date'][0]), ylabel='active_power_im (p.u.)', \n",
    "                title='Active power import by inverter')\n",
    "\n",
    "    handles, labels = ax.get_legend_handles_labels()\n",
    "    ax.legend(handles=handles[0:], labels=labels[0:])  # To eliminate the legend title\n",
    "    plt.tight_layout();  # plt.show()\n",
    "    fig.savefig(path_in+'\\\\'+name_file_img+'_'+plants+'.png', bbox_inches='tight', dpi=150)  # Save the graph\n",
    "    print('Graph saved in: ' + path_in+'\\\\'+name_file_img+'_'+plants+'.png')\n",
    "    \n",
    "def plot_data_inv(df_inv):\n",
    "    # Plot the sum of active_power_im for every inverter, in each date\n",
    "    fig, ax = plt.subplots(figsize=(8,5), dpi=100)\n",
    "    labs1st = ['Sum of active power', 'Min of active_power', 'Max of active power']\n",
    "\n",
    "    df_inv.plot(y = df_inv.columns[0], kind=\"bar\", rot=30, ax=ax, width=.4, alpha=.8, legend=False)\n",
    "    ax.set(xlabel=\"Inverter\", ylabel='active_power_im (p.u.)', \n",
    "           title=str(labs1st[0])+' by inverter. Date: '+str(df_inv['date'].iloc[0]))\n",
    "    ax.ticklabel_format(style='sci', axis='y', scilimits=(0,0))  # To change for scientific numerical\n",
    "    ax.grid(axis='y', alpha=.5)\n",
    "    plt.tight_layout();  plt.show()\n",
    "    \n",
    "def data_save(df_inv, plants):\n",
    "    # Save the data_inv_sunai in a txt file, with sum, min, max and date\n",
    "    df_inv.to_csv(path_in + '\\\\' + plants + '_summarized.txt', sep='\\t', encoding='utf-8')\n",
    "    print('File saved in: ' + path_in + '\\\\' + plants + '_summarized.txt')"
   ]
  },
  {
   "cell_type": "code",
   "execution_count": 5,
   "metadata": {},
   "outputs": [
    {
     "name": "stdout",
     "output_type": "stream",
     "text": [
      "Index: 0 is plant: plantas_python_1\n",
      "Graph saved in: C:\\Users\\fespi\\OneDrive\\Desktop\\postulacion_sunai\\act_power_im_inv_plantas_python_1.png\n",
      "File saved in: C:\\Users\\fespi\\OneDrive\\Desktop\\postulacion_sunai\\plantas_python_1_summarized.txt\n",
      "\n",
      "\n",
      "Index: 1 is plant: plantas_python_2\n",
      "Graph saved in: C:\\Users\\fespi\\OneDrive\\Desktop\\postulacion_sunai\\act_power_im_inv_plantas_python_2.png\n",
      "File saved in: C:\\Users\\fespi\\OneDrive\\Desktop\\postulacion_sunai\\plantas_python_2_summarized.txt\n",
      "\n",
      "\n",
      "All files processed\n"
     ]
    }
   ],
   "source": [
    "plt.close('all')  # Closing previous figures\n",
    "data_sun, data_inv = [], []\n",
    "for i in range(len(files)):\n",
    "    print(\"Index:\", i, \"is plant:\", plants[i])\n",
    "    data_sun.append(data_sunai(files[i]))\n",
    "    data_inv.append(data_inv_sunai(data_sun[i]))\n",
    "    plot_data_sunai(data_sun[i], plants[i])\n",
    "    plot_data_inv(data_inv[i])\n",
    "    data_save(data_inv[i], plants[i])\n",
    "    print(\"\\n\")\n",
    "    if i == len(files)-1:\n",
    "        print(\"All files processed\")"
   ]
  },
  {
   "cell_type": "code",
   "execution_count": 7,
   "metadata": {},
   "outputs": [
    {
     "data": {
      "text/html": [
       "<div>\n",
       "<style scoped>\n",
       "    .dataframe tbody tr th:only-of-type {\n",
       "        vertical-align: middle;\n",
       "    }\n",
       "\n",
       "    .dataframe tbody tr th {\n",
       "        vertical-align: top;\n",
       "    }\n",
       "\n",
       "    .dataframe thead th {\n",
       "        text-align: right;\n",
       "    }\n",
       "</style>\n",
       "<table border=\"1\" class=\"dataframe\">\n",
       "  <thead>\n",
       "    <tr style=\"text-align: right;\">\n",
       "      <th></th>\n",
       "      <th>sum</th>\n",
       "      <th>min</th>\n",
       "      <th>max</th>\n",
       "      <th>date</th>\n",
       "    </tr>\n",
       "    <tr>\n",
       "      <th>id_i</th>\n",
       "      <th></th>\n",
       "      <th></th>\n",
       "      <th></th>\n",
       "      <th></th>\n",
       "    </tr>\n",
       "  </thead>\n",
       "  <tbody>\n",
       "    <tr>\n",
       "      <th>4798</th>\n",
       "      <td>0.0</td>\n",
       "      <td>0.0</td>\n",
       "      <td>0.0</td>\n",
       "      <td>2022-11-10</td>\n",
       "    </tr>\n",
       "    <tr>\n",
       "      <th>4799</th>\n",
       "      <td>577229.0</td>\n",
       "      <td>28.0</td>\n",
       "      <td>16310.0</td>\n",
       "      <td>2022-11-10</td>\n",
       "    </tr>\n",
       "    <tr>\n",
       "      <th>4800</th>\n",
       "      <td>662142.0</td>\n",
       "      <td>27.0</td>\n",
       "      <td>16185.0</td>\n",
       "      <td>2022-11-10</td>\n",
       "    </tr>\n",
       "    <tr>\n",
       "      <th>4801</th>\n",
       "      <td>690870.0</td>\n",
       "      <td>9.0</td>\n",
       "      <td>16431.0</td>\n",
       "      <td>2022-11-10</td>\n",
       "    </tr>\n",
       "    <tr>\n",
       "      <th>4802</th>\n",
       "      <td>419922.0</td>\n",
       "      <td>61.0</td>\n",
       "      <td>10855.0</td>\n",
       "      <td>2022-11-10</td>\n",
       "    </tr>\n",
       "    <tr>\n",
       "      <th>4803</th>\n",
       "      <td>610893.0</td>\n",
       "      <td>42.0</td>\n",
       "      <td>13089.0</td>\n",
       "      <td>2022-11-10</td>\n",
       "    </tr>\n",
       "    <tr>\n",
       "      <th>4804</th>\n",
       "      <td>703860.0</td>\n",
       "      <td>20.0</td>\n",
       "      <td>16545.0</td>\n",
       "      <td>2022-11-10</td>\n",
       "    </tr>\n",
       "  </tbody>\n",
       "</table>\n",
       "</div>"
      ],
      "text/plain": [
       "           sum   min      max        date\n",
       "id_i                                     \n",
       "4798       0.0   0.0      0.0  2022-11-10\n",
       "4799  577229.0  28.0  16310.0  2022-11-10\n",
       "4800  662142.0  27.0  16185.0  2022-11-10\n",
       "4801  690870.0   9.0  16431.0  2022-11-10\n",
       "4802  419922.0  61.0  10855.0  2022-11-10\n",
       "4803  610893.0  42.0  13089.0  2022-11-10\n",
       "4804  703860.0  20.0  16545.0  2022-11-10"
      ]
     },
     "execution_count": 7,
     "metadata": {},
     "output_type": "execute_result"
    }
   ],
   "source": [
    "data_inv[0]"
   ]
  },
  {
   "cell_type": "code",
   "execution_count": null,
   "metadata": {},
   "outputs": [],
   "source": []
  }
 ],
 "metadata": {
  "kernelspec": {
   "display_name": "Python 3.11.0 64-bit",
   "language": "python",
   "name": "python3"
  },
  "language_info": {
   "codemirror_mode": {
    "name": "ipython",
    "version": 3
   },
   "file_extension": ".py",
   "mimetype": "text/x-python",
   "name": "python",
   "nbconvert_exporter": "python",
   "pygments_lexer": "ipython3",
   "version": "3.11.0"
  },
  "orig_nbformat": 4,
  "vscode": {
   "interpreter": {
    "hash": "5238573367df39f7286bb46f9ff5f08f63a01a80960060ce41e3c79b190280fa"
   }
  }
 },
 "nbformat": 4,
 "nbformat_minor": 2
}
