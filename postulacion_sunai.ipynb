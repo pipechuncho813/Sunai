{
 "cells": [
  {
   "cell_type": "markdown",
   "metadata": {},
   "source": [
    "## **Postulación Sunai: Python Developer JR**"
   ]
  },
  {
   "cell_type": "code",
   "execution_count": 116,
   "metadata": {},
   "outputs": [],
   "source": [
    "# Load packages\n",
    "import os\n",
    "import numpy as np\n",
    "import pandas as pd\n",
    "import matplotlib.pyplot as plt\n",
    "plt.style.use('default')\n",
    "%matplotlib qt"
   ]
  },
  {
   "cell_type": "code",
   "execution_count": 117,
   "metadata": {},
   "outputs": [],
   "source": [
    "#Set working directory\n",
    "# path_in = input('Enter path to working directory: ')\n",
    "path_in = r'C:\\Users\\fespi\\OneDrive\\Desktop\\data_sunai'\n",
    "\n",
    "files = [os.path.join(path_in, f) for f in os.listdir(path_in) if f.endswith('.xlsx')]\n",
    "plants = [files[i][files[i].rfind('\\\\')+6:-5] for i in range(len(files))]"
   ]
  },
  {
   "cell_type": "code",
   "execution_count": 178,
   "metadata": {},
   "outputs": [],
   "source": [
    "# Read data and transform to dataframe\n",
    "def data_sunai(files):\n",
    "    df = pd.read_excel(files, header=0, parse_dates=True, na_filter=True)\n",
    "    df.replace('data_faltante',0, inplace=True)\n",
    "    df['date'], df['time'] = zip(*[(d.date(), d.time()) for d in df['fecha_im']])\n",
    "    df['date'], df['time'] = df['date'].astype(str), df['time'].astype(str)\n",
    "    cols = list(df.columns.values)\n",
    "    df = df[cols[0:2] + cols[-2:] + cols[2:-2]]\n",
    "    df = df[df.columns[[0,2,3,14]]]\n",
    "    \n",
    "    df_pv = df.pivot(index='time', columns='id_i', values='active_power_im')  # Create a pivot table\n",
    "    df_pv.rename_axis(None, axis=1, inplace=True)\n",
    "    df_pv['date'] = df['date'][0]\n",
    "    return df_pv\n",
    "\n",
    "def data_inv_sunai(df_pv):\n",
    "    df_pv2 = df_pv[df_pv.columns[:-1]]\n",
    "    df_inv = pd.DataFrame(index = ['sum', 'min', 'max'], columns = df_pv2.columns,\n",
    "                      data = [df_pv2.sum().values, df_pv2.min().values, df_pv2.max().values]).T\n",
    "    df_inv.fillna(0, inplace=True)  # To replace NaN values with 0\n",
    "    df_inv.index.name = 'id_i'\n",
    "    df_inv['date'] = df_pv['date'][0]\n",
    "    return df_inv\n",
    "\n",
    "def plot_data_sunai(df_pv, plants):\n",
    "    fig, ax = plt.subplots(figsize=(8,5), dpi=100)\n",
    "    name_file_img = 'act_power_im_inv'\n",
    "\n",
    "    df_pv.plot(kind='line', rot=30, ax=ax, lw = 1.6, alpha=.8, legend=True)\n",
    "    ax.set(xlabel=\"Time. Date: \"+str(df_pv['date'][0]), ylabel='active_power_im (p.u.)', \n",
    "                title='Active power import by inverter')\n",
    "\n",
    "    handles, labels = ax.get_legend_handles_labels()\n",
    "    ax.legend(handles=handles[0:], labels=labels[0:])\n",
    "    plt.tight_layout();  # plt.show()\n",
    "    fig.savefig(path_in+'\\\\'+name_file_img+'_'+plants+'.png', bbox_inches='tight', dpi=150)\n",
    "    print('Graph saved in: ' + path_in+'\\\\'+name_file_img+'_'+plants+'.png')\n",
    "    \n",
    "def plot_data_inv(df_inv):\n",
    "    fig, ax = plt.subplots(figsize=(8,5), dpi=100)\n",
    "    labs1st = ['Sum of active power', 'Min of active_power', 'Max of active power']\n",
    "\n",
    "    df_inv.plot(y = df_inv.columns[0], kind=\"bar\", rot=30, ax=ax, width=.4, alpha=.8, legend=False)\n",
    "    ax.set(xlabel=\"Inverter\", ylabel='active_power_im (p.u.)', \n",
    "           title=str(labs1st[0])+' by inverter. Date: '+str(df_inv['date'].iloc[0]))\n",
    "    ax.ticklabel_format(style='sci', axis='y', scilimits=(0,0))\n",
    "    ax.grid(axis='y', alpha=.5)\n",
    "    plt.tight_layout();  plt.show()\n",
    "    \n",
    "def data_save(df_inv, plants):\n",
    "    df_inv.to_csv(path_in + '\\\\' + plants + '_summarized.txt', sep='\\t', encoding='utf-8')\n",
    "    print('File saved in: ' + path_in + '\\\\' + plants + '_summarized.txt')"
   ]
  },
  {
   "cell_type": "code",
   "execution_count": 184,
   "metadata": {},
   "outputs": [
    {
     "name": "stdout",
     "output_type": "stream",
     "text": [
      "Index: 0 is plant: plantas_python_1\n",
      "Graph saved in: C:\\Users\\fespi\\OneDrive\\Desktop\\data_sunai\\act_power_im_inv_plantas_python_1.png\n",
      "File saved in: C:\\Users\\fespi\\OneDrive\\Desktop\\data_sunai\\plantas_python_1_summarized.txt\n",
      "\n",
      "\n",
      "Index: 1 is plant: plantas_python_2\n",
      "Graph saved in: C:\\Users\\fespi\\OneDrive\\Desktop\\data_sunai\\act_power_im_inv_plantas_python_2.png\n",
      "File saved in: C:\\Users\\fespi\\OneDrive\\Desktop\\data_sunai\\plantas_python_2_summarized.txt\n",
      "\n",
      "\n",
      "All files processed\n"
     ]
    }
   ],
   "source": [
    "plt.close('all')  # Closing previous figures\n",
    "data_sun, data_inv = [], []\n",
    "for i in range(len(files)):\n",
    "    print(\"Index:\", i, \"is plant:\", plants[i])\n",
    "    data_sun.append(data_sunai(files[i]))\n",
    "    data_inv.append(data_inv_sunai(data_sun[i]))\n",
    "    plot_data_sunai(data_sun[i], plants[i])\n",
    "    plot_data_inv(data_inv[i])\n",
    "    data_save(data_inv[i], plants[i])\n",
    "    print(\"\\n\")\n",
    "    if i == len(files)-1:\n",
    "        print(\"All files processed\")"
   ]
  },
  {
   "cell_type": "code",
   "execution_count": null,
   "metadata": {},
   "outputs": [],
   "source": []
  }
 ],
 "metadata": {
  "kernelspec": {
   "display_name": "Python 3.11.0 64-bit",
   "language": "python",
   "name": "python3"
  },
  "language_info": {
   "codemirror_mode": {
    "name": "ipython",
    "version": 3
   },
   "file_extension": ".py",
   "mimetype": "text/x-python",
   "name": "python",
   "nbconvert_exporter": "python",
   "pygments_lexer": "ipython3",
   "version": "3.11.0"
  },
  "orig_nbformat": 4,
  "vscode": {
   "interpreter": {
    "hash": "5238573367df39f7286bb46f9ff5f08f63a01a80960060ce41e3c79b190280fa"
   }
  }
 },
 "nbformat": 4,
 "nbformat_minor": 2
}
